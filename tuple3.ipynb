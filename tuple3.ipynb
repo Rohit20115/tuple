{
 "cells": [
  {
   "cell_type": "code",
   "execution_count": 1,
   "id": "99a5e678",
   "metadata": {},
   "outputs": [
    {
     "name": "stdout",
     "output_type": "stream",
     "text": [
      "tuple2 (99, 88)\n",
      "tuple1 (11, 22)\n"
     ]
    }
   ],
   "source": [
    "#swap two tuple in python\n",
    "\n",
    "tuple1 = (11,22)\n",
    "tuple2 = (99,88)\n",
    "\n",
    "tuple1,tuple2=tuple2,tuple1\n",
    "\n",
    "print(\"tuple2\",tuple1)\n",
    "print(\"tuple1\",tuple2)\n"
   ]
  }
 ],
 "metadata": {
  "kernelspec": {
   "display_name": "Python 3 (ipykernel)",
   "language": "python",
   "name": "python3"
  },
  "language_info": {
   "codemirror_mode": {
    "name": "ipython",
    "version": 3
   },
   "file_extension": ".py",
   "mimetype": "text/x-python",
   "name": "python",
   "nbconvert_exporter": "python",
   "pygments_lexer": "ipython3",
   "version": "3.11.4"
  }
 },
 "nbformat": 4,
 "nbformat_minor": 5
}
